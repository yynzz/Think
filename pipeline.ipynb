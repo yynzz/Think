{
  "nbformat": 4,
  "nbformat_minor": 0,
  "metadata": {
    "colab": {
      "name": "pipeline",
      "provenance": [],
      "collapsed_sections": [],
      "authorship_tag": "ABX9TyNu3Bn6+3MHUU1KsAhSym1g"
    },
    "kernelspec": {
      "name": "python3",
      "display_name": "Python 3"
    },
    "language_info": {
      "name": "python"
    }
  },
  "cells": [
    {
      "cell_type": "markdown",
      "metadata": {
        "id": "P20I644zeoRW"
      },
      "source": [
        "### Benefit\n",
        "\n",
        "Pipelines are a simple way to keep your data preprocessing and modeling code organized. Specifically, a pipeline bundles preprocessing and modeling steps so you can use the whole bundle as if it were a single step. Pipelines have some benefits:\n",
        "\n",
        "1. **Cleaner Code:** Accounting for data at each step of preprocessing can get messy. With a pipeline, you won't need to manually keep track of your training and validation data at each step.\n",
        "2. **Fewer Bugs:** There are fewer opportunities to misapply a step or forget a preprocessing step.\n",
        "3. **Easier to Productionize:** It can be surprisingly hard to transition a model from a prototype to something deployable at scale. Pipelines can help.\n",
        "4. **More Options for Model Validation:** Cross-validation, for example."
      ]
    },
    {
      "cell_type": "markdown",
      "metadata": {
        "id": "EfIUYFhPfQzT"
      },
      "source": [
        "### Example"
      ]
    },
    {
      "cell_type": "markdown",
      "metadata": {
        "id": "YzhlAGLT0_TM"
      },
      "source": [
        "load data"
      ]
    },
    {
      "cell_type": "code",
      "metadata": {
        "id": "UXNtZ0fBe63c"
      },
      "source": [
        "import pandas as pd\n",
        "from sklearn.model_selection import train_test_split\n",
        "\n",
        "# Read the data\n",
        "X_full = pd.read_csv('../input/train.csv', index_col='Id')\n",
        "X_test_full = pd.read_csv('../input/test.csv', index_col='Id')\n",
        "\n",
        "# Remove rows with missing target, separate target from predictors\n",
        "X_full.dropna(axis=0, subset=['SalePrice'], inplace=True)\n",
        "y = X_full.SalePrice\n",
        "X_full.drop(['SalePrice'], axis=1, inplace=True)\n",
        "\n",
        "# Break off validation set from training data\n",
        "X_train_full, X_valid_full, y_train, y_valid = train_test_split(X_full, y, \n",
        "                                                                train_size=0.8, test_size=0.2,\n",
        "                                                                random_state=0)\n",
        "\n",
        "# Select categorical columns with relatively low cardinality (number of unique values in a column)\n",
        "categorical_cols = [cname for cname in X_train_full.columns if\n",
        "                    X_train_full[cname].nunique() < 10 and \n",
        "                    X_train_full[cname].dtype == 'object']\n",
        "\n",
        "# Select numerical columns\n",
        "numerical_cols = [cname for cname in X_train_full.columns if \n",
        "                X_train_full[cname].dtype in ['int64', 'float64']]\n",
        "\n",
        "# Keep selected columns only\n",
        "my_cols = categorical_cols + numerical_cols\n",
        "X_train = X_train_full[my_cols].copy()\n",
        "X_valid = X_valid_full[my_cols].copy()\n",
        "X_test = X_test_full[my_cols].copy()"
      ],
      "execution_count": null,
      "outputs": []
    },
    {
      "cell_type": "markdown",
      "metadata": {
        "id": "BwmpGxVGfk1Y"
      },
      "source": [
        "construct the full pipeline in three steps (with scikit-learn)"
      ]
    },
    {
      "cell_type": "markdown",
      "metadata": {
        "id": "LS6EM0nte7tU"
      },
      "source": [
        "#### Step 1: Define Preprocessing Steps\n",
        "\n",
        "Similar to how a pipeline bundles together preprocessing and modeling steps, use the `ColumnTransformer` class to bundle together different preprocessing steps.\n",
        "\n",
        "- imputes missing values in ***numerical*** data\n",
        "- imputes missing values and applies a one-hot encoding to ***categorical*** data"
      ]
    },
    {
      "cell_type": "code",
      "metadata": {
        "id": "UJv0t1_3fdip"
      },
      "source": [
        "from sklearn.compose import ColumnTransformer\n",
        "from sklearn.pipeline import Pipeline\n",
        "from sklearn.impute import SimpleImputer\n",
        "from sklearn.preprocessing import OneHotEncoder\n",
        "\n",
        "# Preprocessing for numerical data\n",
        "numerical_transformer = SimpleImputer(strategy='constant')\n",
        "\n",
        "# Preprocessing for categorical data\n",
        "categorical_transformer = Pipeline(steps=[\n",
        "    ('imputer', SimpleImputer(strategy='most_frequent')),\n",
        "    ('onehot', OneHotEncoder(handle_unknown='ignore'))\n",
        "])\n",
        "\n",
        "# Bundle preprocessing for numerical and categorical data\n",
        "preprocessor = ColumnTransformer(\n",
        "    transformers=[\n",
        "        ('num', numerical_transformer, numerical_cols),\n",
        "        ('cat', categorical_transformer, categorical_cols)\n",
        "    ])"
      ],
      "execution_count": null,
      "outputs": []
    },
    {
      "cell_type": "markdown",
      "metadata": {
        "id": "YGQePBMsgEWV"
      },
      "source": [
        "#### Step 2: Define the Model\n",
        "\n",
        "Define a random forest model with the `RandomForestRegressor` class."
      ]
    },
    {
      "cell_type": "code",
      "metadata": {
        "id": "ZuNzz-L6gHEH"
      },
      "source": [
        "from sklearn.ensemble import RandomForestRegressor\n",
        "\n",
        "# Define model\n",
        "model = RandomForestRegressor(n_estimators=100, random_state=0)"
      ],
      "execution_count": null,
      "outputs": []
    },
    {
      "cell_type": "markdown",
      "metadata": {
        "id": "Ye2V94d9gOVc"
      },
      "source": [
        "#### Step 3: Create and Evaluate the Pipeline\n",
        "\n",
        "Use the `Pipeline` class to define a pipeline that bundles the preprocessing and modeling steps.\n",
        "\n",
        "- With the pipeline, we preprocess the training data and fit the model in a single line of code. (*In contrast, without a pipeline, we have to do imputation, one-hot encoding, and model training in separate steps. This becomes especially messy if we have to deal with both numerical and categorical variables.*)\n",
        "\n",
        "- With the pipeline, we supply the unprocessed features in `X_valid` to the `predict()` command, and the pipeline automatically preprocesses the features before generating predictions. (*However, without a pipeline, we have to remember to preprocess the validation data before making predictions.*)"
      ]
    },
    {
      "cell_type": "code",
      "metadata": {
        "id": "XhunHXsjgdD9"
      },
      "source": [
        "from sklearn.metrics import mean_absolute_error\n",
        "\n",
        "# Bundle preprocessing and modeling code in a pipeline\n",
        "my_pipeline = Pipeline(steps=[('preprocessor', preprocessor),\n",
        "                      ('model', model)\n",
        "                     ])\n",
        "\n",
        "# Preprocessing of training data, fit model \n",
        "my_pipeline.fit(X_train, y_train)\n",
        "\n",
        "# Preprocessing of validation data, get predictions\n",
        "preds = my_pipeline.predict(X_valid)\n",
        "\n",
        "# Evaluate the model\n",
        "score = mean_absolute_error(y_valid, preds)\n",
        "print('MAE:', score)"
      ],
      "execution_count": null,
      "outputs": []
    },
    {
      "cell_type": "markdown",
      "metadata": {
        "id": "aJf8VfJqjry6"
      },
      "source": [
        "Generate test predictions: use the trained model to generate predictions with the test data."
      ]
    },
    {
      "cell_type": "code",
      "metadata": {
        "id": "_wY9RF5_jx79"
      },
      "source": [
        "# Preprocessing of test data, fit model\n",
        "preds_test = my_pipeline.predict(X_test)"
      ],
      "execution_count": null,
      "outputs": []
    },
    {
      "cell_type": "code",
      "metadata": {
        "id": "FSjnhW6jkM4B"
      },
      "source": [
        "# Save test predictions to file\n",
        "output = pd.DataFrame({'Id': X_test.index,\n",
        "                       'SalePrice': preds_test})\n",
        "output.to_csv('filename.csv', index=False)"
      ],
      "execution_count": null,
      "outputs": []
    }
  ]
}