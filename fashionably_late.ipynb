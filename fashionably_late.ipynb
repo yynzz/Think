{
  "nbformat": 4,
  "nbformat_minor": 0,
  "metadata": {
    "colab": {
      "name": "fashionably late",
      "provenance": [],
      "collapsed_sections": [],
      "authorship_tag": "ABX9TyNgB/BLO4ipZwy84XNrezLp"
    },
    "kernelspec": {
      "name": "python3",
      "display_name": "Python 3"
    },
    "language_info": {
      "name": "python"
    }
  },
  "cells": [
    {
      "cell_type": "markdown",
      "metadata": {
        "id": "v4024dYAV0vv"
      },
      "source": [
        "We're using lists to record people who attended our party and what order they arrived in. For example, the following list represents a party with 7 guests, in which Adela showed up first and Ford was the last to arrive:\n",
        "\n",
        "    party_attendees = ['Adela', 'Fleda', 'Owen', 'May', 'Mona', 'Gilbert', 'Ford']\n",
        "\n",
        "A guest is considered 'fashionably late' if they arrived after at least half of the party's guests. However, they must not be the very last guest (that's taking it too far). In the above example, Mona and Gilbert are the only guests who were fashionably late.\n"
      ]
    },
    {
      "cell_type": "code",
      "metadata": {
        "id": "KacFUrpIVupi"
      },
      "source": [
        "def fashionable(arrivals, name):\n",
        "  '''Given an ordered list of arrivals to the party and a name, return whether the guest with that\n",
        "  name was fashionably late.\n",
        "  '''\n",
        "  order = arrivals.index(name)\n",
        "  return order >= len(arrivals) / 2 and order != len(arrivals) - 1"
      ],
      "execution_count": 1,
      "outputs": []
    },
    {
      "cell_type": "code",
      "metadata": {
        "id": "hKKh-9E_WNz0"
      },
      "source": [
        "arrival = ['Adela', 'Fleda', 'Owen', 'May', 'Mona', 'Gilbert', 'Ford']"
      ],
      "execution_count": 2,
      "outputs": []
    },
    {
      "cell_type": "code",
      "metadata": {
        "colab": {
          "base_uri": "https://localhost:8080/"
        },
        "id": "jZ5-KaeIMlEG",
        "outputId": "dcc659ff-b05e-4aaf-e36f-94afb37dfdba"
      },
      "source": [
        "print(fashionable(arrival, 'May'))\n",
        "print(fashionable(arrival, 'Mona'))\n",
        "print(fashionable(arrival, 'Ford'))"
      ],
      "execution_count": 3,
      "outputs": [
        {
          "output_type": "stream",
          "text": [
            "False\n",
            "True\n",
            "False\n"
          ],
          "name": "stdout"
        }
      ]
    }
  ]
}