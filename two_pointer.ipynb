{
  "nbformat": 4,
  "nbformat_minor": 0,
  "metadata": {
    "colab": {
      "name": "two pointer",
      "provenance": []
    },
    "kernelspec": {
      "name": "python3",
      "display_name": "Python 3"
    },
    "language_info": {
      "name": "python"
    }
  },
  "cells": [
    {
      "cell_type": "code",
      "metadata": {
        "id": "rzYkZ2ljlg6m"
      },
      "source": [
        "def odd(*num):\n",
        "  '''find odd nums'''\n",
        "\n",
        "  result = []\n",
        "  j = len(num) - 1\n",
        "\n",
        "  for i in range(len(num)):\n",
        "\n",
        "    if i <= j:\n",
        "      if num[i] % 2 == 1:\n",
        "        result.append(num[i])\n",
        "      if (num[j] % 2 == 1) and (i != j): #append only once when i=j\n",
        "        result.append(num[j])\n",
        "\n",
        "    j -= 1\n",
        "  \n",
        "  return result"
      ],
      "execution_count": 1,
      "outputs": []
    },
    {
      "cell_type": "code",
      "metadata": {
        "colab": {
          "base_uri": "https://localhost:8080/"
        },
        "id": "FuRJaXTStahs",
        "outputId": "1ef5dc01-85dc-429b-b89c-7c8ca50f5d49"
      },
      "source": [
        "odd(1,3,2,4,7,10)"
      ],
      "execution_count": 2,
      "outputs": [
        {
          "output_type": "execute_result",
          "data": {
            "text/plain": [
              "[1, 3, 7]"
            ]
          },
          "metadata": {
            "tags": []
          },
          "execution_count": 2
        }
      ]
    },
    {
      "cell_type": "code",
      "metadata": {
        "colab": {
          "base_uri": "https://localhost:8080/"
        },
        "id": "3HOgbKF5tbGB",
        "outputId": "ac60a6a6-b51f-4cb2-f33c-6ad19ce069f1"
      },
      "source": [
        "odd(1,2,3,4,5)"
      ],
      "execution_count": 3,
      "outputs": [
        {
          "output_type": "execute_result",
          "data": {
            "text/plain": [
              "[1, 5, 3]"
            ]
          },
          "metadata": {
            "tags": []
          },
          "execution_count": 3
        }
      ]
    },
    {
      "cell_type": "code",
      "metadata": {
        "colab": {
          "base_uri": "https://localhost:8080/"
        },
        "id": "xjDSTuDhtcv5",
        "outputId": "e808afa3-fd8b-4c27-c8bb-cdecb1a1162a"
      },
      "source": [
        "odd(1,2,3,4,5,6,7,8,9,10)"
      ],
      "execution_count": 4,
      "outputs": [
        {
          "output_type": "execute_result",
          "data": {
            "text/plain": [
              "[1, 9, 3, 7, 5]"
            ]
          },
          "metadata": {
            "tags": []
          },
          "execution_count": 4
        }
      ]
    }
  ]
}