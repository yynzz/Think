{
  "nbformat": 4,
  "nbformat_minor": 0,
  "metadata": {
    "kernelspec": {
      "display_name": "Python 3",
      "language": "python",
      "name": "python3"
    },
    "language_info": {
      "name": "python",
      "version": "3.7.10",
      "mimetype": "text/x-python",
      "codemirror_mode": {
        "name": "ipython",
        "version": 3
      },
      "pygments_lexer": "ipython3",
      "nbconvert_exporter": "python",
      "file_extension": ".py"
    },
    "learntools_metadata": {
      "lesson_index": 4,
      "type": "exercise"
    },
    "colab": {
      "name": "slot machine",
      "provenance": []
    }
  },
  "cells": [
    {
      "cell_type": "markdown",
      "metadata": {
        "id": "b9OYui1Fdrfc"
      },
      "source": [
        "The Python Challenge Casino has a slot machine. You can get a result from the slot machine by calling `play_slot_machine()`. The number it returns is your winnings in dollars. Usually it returns 0.  But sometimes you'll get lucky and get a big payday."
      ]
    },
    {
      "cell_type": "code",
      "metadata": {
        "trusted": true,
        "id": "Wuoxpv1Rdrfc",
        "outputId": "6ec55e1d-3bf4-49c1-8db1-9a4164ad0f79"
      },
      "source": [
        "play_slot_machine()"
      ],
      "execution_count": null,
      "outputs": [
        {
          "output_type": "execute_result",
          "data": {
            "text/plain": [
              "5"
            ]
          },
          "metadata": {
            "tags": []
          },
          "execution_count": 3
        }
      ]
    },
    {
      "cell_type": "code",
      "metadata": {
        "execution": {
          "iopub.status.busy": "2021-08-09T05:48:33.569668Z",
          "iopub.execute_input": "2021-08-09T05:48:33.570249Z",
          "iopub.status.idle": "2021-08-09T05:48:33.580690Z",
          "shell.execute_reply.started": "2021-08-09T05:48:33.570192Z",
          "shell.execute_reply": "2021-08-09T05:48:33.577718Z"
        },
        "trusted": true,
        "id": "9YhZZGUtdrfd",
        "outputId": "7ce86500-aa6a-46a7-e330-cc7733481950"
      },
      "source": [
        "for i in range(10):\n",
        "    print(play_slot_machine())"
      ],
      "execution_count": null,
      "outputs": [
        {
          "output_type": "stream",
          "text": [
            "5\n",
            "0\n",
            "5\n",
            "0\n",
            "100\n",
            "1.5\n",
            "0\n",
            "0\n",
            "0\n",
            "0\n"
          ],
          "name": "stdout"
        }
      ]
    },
    {
      "cell_type": "markdown",
      "metadata": {
        "id": "0DXc0VmLdrfe"
      },
      "source": [
        "By the way, did we mention that each play costs $1? Don't worry, we'll send you the bill later.\n",
        "\n",
        "On average, how much money can you expect to gain (or lose) every time you play the machine?  The casino keeps it a secret, but you can estimate the average value of each pull using a technique called the **Monte Carlo method**. To estimate the average outcome, we simulate the scenario many times, and return the average result.\n",
        "\n",
        "Calculate the average value per play of the slot machine."
      ]
    },
    {
      "cell_type": "code",
      "metadata": {
        "execution": {
          "iopub.status.busy": "2021-08-09T05:48:42.189124Z",
          "iopub.execute_input": "2021-08-09T05:48:42.189552Z",
          "iopub.status.idle": "2021-08-09T05:48:42.195563Z",
          "shell.execute_reply.started": "2021-08-09T05:48:42.189515Z",
          "shell.execute_reply": "2021-08-09T05:48:42.194481Z"
        },
        "trusted": true,
        "id": "TVM679vQdrff"
      },
      "source": [
        "def estimate_average_slot_payout(n_runs):\n",
        "    '''Run the slot machine n_runs times and return the average net profit per run.\n",
        "    Example calls (note that return value is nondeterministic!):\n",
        "    >>> estimate_average_slot_payout(1)\n",
        "    -1\n",
        "    >>> estimate_average_slot_payout(1)\n",
        "    0.5\n",
        "    '''\n",
        "    \n",
        "    return (sum([play_slot_machine() for i in range(n_runs)]) - n_runs) / n_runs\n",
        "    "
      ],
      "execution_count": null,
      "outputs": []
    },
    {
      "cell_type": "code",
      "metadata": {
        "execution": {
          "iopub.status.busy": "2021-08-09T05:48:49.436557Z",
          "iopub.execute_input": "2021-08-09T05:48:49.436955Z",
          "iopub.status.idle": "2021-08-09T05:48:51.167239Z",
          "shell.execute_reply.started": "2021-08-09T05:48:49.436922Z",
          "shell.execute_reply": "2021-08-09T05:48:51.165347Z"
        },
        "trusted": true,
        "id": "jSFMtacbdrff",
        "outputId": "ea1ddfb7-c4b5-44dd-a96e-b395b5d83037"
      },
      "source": [
        "for i in range(5):\n",
        "    print(estimate_average_slot_payout(1000000))"
      ],
      "execution_count": null,
      "outputs": [
        {
          "output_type": "stream",
          "text": [
            "0.019406\n",
            "0.0272595\n",
            "0.0169575\n",
            "0.0381985\n",
            "0.0149285\n"
          ],
          "name": "stdout"
        }
      ]
    },
    {
      "cell_type": "markdown",
      "metadata": {
        "id": "IeOH4tuxft1v"
      },
      "source": [
        "The exact expected value of one pull of the slot machine is 0.025 - i.e. a little more than 2 cents. See? Not every game in the Python Challenge Casino is rigged against the player!\n",
        "\n",
        "Because of the high variance of the outcome (there are some very rare high payout results that significantly affect the average) you might need to run your function with a very high value of n_runs to get a stable answer close to the true expectation."
      ]
    }
  ]
}