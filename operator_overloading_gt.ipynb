{
  "nbformat": 4,
  "nbformat_minor": 0,
  "metadata": {
    "colab": {
      "name": "operator overloading gt",
      "provenance": [],
      "collapsed_sections": [],
      "authorship_tag": "ABX9TyNxrUzbr492JMPcHLvjnpaV"
    },
    "kernelspec": {
      "name": "python3",
      "display_name": "Python 3"
    },
    "language_info": {
      "name": "python"
    }
  },
  "cells": [
    {
      "cell_type": "markdown",
      "metadata": {
        "id": "kU1gzKFnggss"
      },
      "source": [
        "Suppose we wanted to create a new type to represent hands in blackjack. One thing we might want to do with this type is overload the comparison operators like `>` and `<=` so that we could use them to check whether one hand beats another. e.g. it'd be cool if we could do this:\n",
        "\n",
        "```python\n",
        ">>> hand1 = BlackjackHand(['K', 'A'])\n",
        ">>> hand2 = BlackjackHand(['7', '10', 'A'])\n",
        ">>> hand1 > hand2\n",
        "True\n",
        "```"
      ]
    },
    {
      "cell_type": "code",
      "metadata": {
        "id": "Hrx3S9mufYry"
      },
      "source": [
        "def hand_total(hand):\n",
        "    \"\"\"Helper function to calculate the total points of a blackjack hand.\n",
        "    \"\"\"\n",
        "    \n",
        "    total = 0\n",
        "    aces = 0\n",
        "\n",
        "    for card in hand:\n",
        "        if card in ['J', 'Q', 'K']:\n",
        "            total += 10\n",
        "        elif card == 'A':\n",
        "            total += 1    ###\n",
        "            aces += 1\n",
        "        else:\n",
        "            total += int(card)\n",
        "\n",
        "    if total + 10 <= 21 and aces > 0:   # for case 21, '11' will at most appear once\n",
        "        total += 10\n",
        "\n",
        "    return total   \n",
        "\n",
        "\n",
        "def blackjack_hand_greater_than(hand_1, hand_2):\n",
        "    \"\"\"\n",
        "    Return True if hand_1 beats hand_2, and False otherwise.\n",
        "    \n",
        "    In order for hand_1 to beat hand_2 the following must be true:\n",
        "    - The total of hand_1 must not exceed 21\n",
        "    - The total of hand_1 must exceed the total of hand_2 OR hand_2's total must exceed 21\n",
        "    \n",
        "    Hands are represented as a list of cards. Each card is represented by a string.\n",
        "    \n",
        "    When adding up a hand's total, cards with numbers count for that many points. Face\n",
        "    cards ('J', 'Q', and 'K') are worth 10 points. 'A' can count for 1 or 11.\n",
        "    \n",
        "    When determining a hand's total, you should try to count aces in the way that \n",
        "    maximizes the hand's total without going over 21. e.g. the total of ['A', 'A', '9'] is 21,\n",
        "    the total of ['A', 'A', '9', '3'] is 14.\n",
        "    \n",
        "    Examples:\n",
        "    >>> blackjack_hand_greater_than(['K'], ['3', '4'])\n",
        "    True\n",
        "    >>> blackjack_hand_greater_than(['K'], ['10'])\n",
        "    False\n",
        "    >>> blackjack_hand_greater_than(['K', 'K', '2'], ['3'])\n",
        "    False\n",
        "    \"\"\"\n",
        "\n",
        "    total_1 = hand_total(hand_1)\n",
        "    total_2 = hand_total(hand_2)\n",
        "\n",
        "    return total_1 <= 21 and (total_1 > total_2 or total_2 > 21)"
      ],
      "execution_count": 1,
      "outputs": []
    },
    {
      "cell_type": "code",
      "metadata": {
        "colab": {
          "base_uri": "https://localhost:8080/"
        },
        "id": "F1lltoV-VCDk",
        "outputId": "3a5d1fa5-5b47-4296-ed96-50018c49105a"
      },
      "source": [
        "print(hand_total(['8']))\n",
        "print(hand_total(['K', 'K', '2']))\n",
        "print(hand_total(['A', 'A', '9']))\n",
        "print(hand_total(['A', 'A', '9', '3']))"
      ],
      "execution_count": 2,
      "outputs": [
        {
          "output_type": "stream",
          "text": [
            "8\n",
            "22\n",
            "21\n",
            "14\n"
          ],
          "name": "stdout"
        }
      ]
    },
    {
      "cell_type": "code",
      "metadata": {
        "colab": {
          "base_uri": "https://localhost:8080/"
        },
        "id": "rlCxkILNYpss",
        "outputId": "179c1dbb-1b69-4d55-b674-56e4745a0a00"
      },
      "source": [
        "print(blackjack_hand_greater_than(['K'], ['10']))\n",
        "print(blackjack_hand_greater_than(['K', 'A'], ['7', '10', 'A']))"
      ],
      "execution_count": 3,
      "outputs": [
        {
          "output_type": "stream",
          "text": [
            "False\n",
            "True\n"
          ],
          "name": "stdout"
        }
      ]
    },
    {
      "cell_type": "markdown",
      "metadata": {
        "id": "-vfyqlnF4i1O"
      },
      "source": [
        "hand_total optim"
      ]
    },
    {
      "cell_type": "code",
      "metadata": {
        "id": "KC-vRBmIm1MU"
      },
      "source": [
        "def hand_total(hand):\n",
        "\n",
        "    total = 0\n",
        "    aces = 0  \n",
        "\n",
        "    for card in hand:\n",
        "        if card in ['J', 'Q', 'K']:\n",
        "            total += 10\n",
        "        elif card == 'A':\n",
        "            aces += 1\n",
        "            ###\n",
        "        else:\n",
        "            total += int(card)  \n",
        "\n",
        "    total += aces   ### \n",
        "\n",
        "    while total + 10 <= 21 and aces > 0:   # for case like 31, might have two '11's\n",
        "        total += 10                        # upgrade each ace from 1 to 11 as long as it helps us get closer to 21 (or other\n",
        "        aces -= 1\n",
        "\n",
        "    return total"
      ],
      "execution_count": null,
      "outputs": []
    }
  ]
}