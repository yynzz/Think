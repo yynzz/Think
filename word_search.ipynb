{
  "nbformat": 4,
  "nbformat_minor": 0,
  "metadata": {
    "colab": {
      "name": "word search",
      "provenance": [],
      "collapsed_sections": [],
      "authorship_tag": "ABX9TyPL/uxotfypHp9+Z1sRnKll"
    },
    "kernelspec": {
      "name": "python3",
      "display_name": "Python 3"
    },
    "language_info": {
      "name": "python"
    }
  },
  "cells": [
    {
      "cell_type": "markdown",
      "metadata": {
        "id": "SXcSBdjOTEZx"
      },
      "source": [
        "A researcher has gathered thousands of news articles. But she wants to focus her attention on articles including a specific word. \n",
        "\n",
        "Help her filter her list of articles. Your function should meet the following criteria:\n",
        "\n",
        "- Do not include documents where the keyword string shows up only as a part of a larger word. For example, if she were looking for the keyword “closed”, you would not include the string “enclosed.” \n",
        "- She does not want you to distinguish upper case from lower case letters. So the phrase “Closed the case.” would be included when the keyword is “closed”\n",
        "- Do not let periods or commas affect what is matched. “It is closed.” would be included when the keyword is “closed”. But you can assume there are no other types of punctuation."
      ]
    },
    {
      "cell_type": "code",
      "metadata": {
        "id": "11eG1VdhS7J4"
      },
      "source": [
        "def word_search(doc_list, keyword):\n",
        "    \"\"\"\n",
        "    Takes a list of documents (each document is a string) and a keyword. \n",
        "    Returns list of the index values into the original list for all documents \n",
        "    containing the keyword.\n",
        "\n",
        "    Example:\n",
        "    doc_list = [\"The Learn Python Challenge Casino.\", \"They bought a car\", \"Casinoville\"]\n",
        "    >>> word_search(doc_list, 'casino')\n",
        "    >>> [0]\n",
        "    \"\"\"\n",
        "\n",
        "    index_list = []\n",
        "    for i, v in enumerate(doc_list):\n",
        "        token_list = v.split()\n",
        "        token_list_norm = []    # token_list_norm = [t.rstrip('.,').lower() for t in token_list]\n",
        "        for t in token_list:\n",
        "            t = t.replace(',', '').replace('.', '').lower()\n",
        "            token_list_norm.append(t)\n",
        "        if keyword.lower() in token_list_norm:\n",
        "            index_list.append(i)\n",
        "    return index_list"
      ],
      "execution_count": 1,
      "outputs": []
    },
    {
      "cell_type": "markdown",
      "metadata": {
        "id": "Lr5oIWN4XgRn"
      },
      "source": [
        "Now the researcher wants to supply multiple keywords to search for."
      ]
    },
    {
      "cell_type": "code",
      "metadata": {
        "id": "h0_3U9hFXhwW"
      },
      "source": [
        "def multi_word_search(doc_list, keywords):\n",
        "    \"\"\"\n",
        "    Takes list of documents (each document is a string) and a list of keywords.  \n",
        "    Returns a dictionary where each key is a keyword, and the value is a list of indices\n",
        "    (from doc_list) of the documents containing that keyword.\n",
        "\n",
        "    >>> doc_list = [\"The Learn Python Challenge Casino.\", \"They bought a car and a casino\", \"Casinoville\"]\n",
        "    >>> keywords = ['casino', 'they']\n",
        "    >>> multi_word_search(doc_list, keywords)\n",
        "    {'casino': [0, 1], 'they': [1]}\n",
        "    \"\"\"\n",
        "\n",
        "    index_dict = {}\n",
        "    for w in keywords:\n",
        "        index_dict[w] = word_search(doc_list, w)  \n",
        "    return index_dict"
      ],
      "execution_count": 2,
      "outputs": []
    },
    {
      "cell_type": "code",
      "metadata": {
        "colab": {
          "base_uri": "https://localhost:8080/"
        },
        "id": "o4zDpfBPZfOF",
        "outputId": "ed93ae30-f2de-422e-f9ff-009ab5056ce7"
      },
      "source": [
        "doc = [\"The Learn Python Challenge Casino.\", \"They bought a car and a casino\", \"Casinoville\"]\n",
        "words = ['casino', 'they', 'crazy']\n",
        "multi_word_search(doc, words)"
      ],
      "execution_count": 3,
      "outputs": [
        {
          "output_type": "execute_result",
          "data": {
            "text/plain": [
              "{'casino': [0, 1], 'crazy': [], 'they': [1]}"
            ]
          },
          "metadata": {
            "tags": []
          },
          "execution_count": 3
        }
      ]
    }
  ]
}